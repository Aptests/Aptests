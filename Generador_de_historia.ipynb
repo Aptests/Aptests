{
  "nbformat": 4,
  "nbformat_minor": 0,
  "metadata": {
    "colab": {
      "provenance": [],
      "name": "Generador de historia",
      "authorship_tag": "ABX9TyMdVlsMtyTRldUpJQ2aEtx3",
      "include_colab_link": true
    },
    "kernelspec": {
      "name": "python3",
      "display_name": "Python 3"
    },
    "language_info": {
      "name": "python"
    }
  },
  "cells": [
    {
      "cell_type": "markdown",
      "metadata": {
        "id": "view-in-github",
        "colab_type": "text"
      },
      "source": [
        "<a href=\"https://colab.research.google.com/github/Aptests/Aptests/blob/main/Generador_de_historia.ipynb\" target=\"_parent\"><img src=\"https://colab.research.google.com/assets/colab-badge.svg\" alt=\"Open In Colab\"/></a>"
      ]
    },
    {
      "cell_type": "markdown",
      "source": [
        "#PRIMEROS PASOS"
      ],
      "metadata": {
        "id": "NYjhJ8ZWQoQD"
      }
    },
    {
      "cell_type": "markdown",
      "source": [
        "Empezando con phyton\n"
      ],
      "metadata": {
        "id": "SsODCfFROb1O"
      }
    },
    {
      "cell_type": "code",
      "source": [
        "personajes = [\"una princesa\", \"un caballero\", \"un mago\"]\n",
        "lugares = [\"en un castillo\", \"en el bosque\", \"en la casa britney spears\"]\n",
        "acciones = [\"lucha contra\", \"habla con\", \"baila con\", \"huye de\"]"
      ],
      "metadata": {
        "id": "BhxW0Hw8ywo1"
      },
      "execution_count": null,
      "outputs": []
    },
    {
      "cell_type": "code",
      "source": [
        "import random\n",
        "\n",
        "# Selecionar elementos al azar en cada lista\n",
        "personaje = random.choice(personajes)\n",
        "lugar = random.choice(lugares)\n",
        "accion = random.choice(acciones)\n",
        "\n",
        "# Crear la historia\n",
        "Historia = f\"{personaje} {accion} chayanne {lugar}.\"\n",
        "\n",
        "#Imprime la historia generada\n",
        "print(Historia)\n",
        "\n",
        "#print(f{personaje} {accion} chayanne {lugar}.)"
      ],
      "metadata": {
        "colab": {
          "base_uri": "https://localhost:8080/"
        },
        "id": "Cz5LpkrmzOaU",
        "outputId": "fd9577cd-887b-4297-8ac4-41ab2d05e4f2"
      },
      "execution_count": null,
      "outputs": [
        {
          "output_type": "stream",
          "name": "stdout",
          "text": [
            "un mago habla con chayanne en el bosque.\n"
          ]
        }
      ]
    },
    {
      "cell_type": "code",
      "source": [],
      "metadata": {
        "id": "XudUByMRAggL"
      },
      "execution_count": null,
      "outputs": []
    },
    {
      "cell_type": "code",
      "source": [
        "if personaje == \"una princesa\": print(\"Es hora de una historia de princesa\")\n",
        "else : print(\"Esta historia sera de aventuras\")\n"
      ],
      "metadata": {
        "colab": {
          "base_uri": "https://localhost:8080/"
        },
        "id": "WZs-aGqY1y7F",
        "outputId": "0656857b-878d-4845-ab21-66dbed1f76a1"
      },
      "execution_count": null,
      "outputs": [
        {
          "output_type": "stream",
          "name": "stdout",
          "text": [
            "Esta historia sera de aventuras\n"
          ]
        }
      ]
    },
    {
      "cell_type": "code",
      "source": [
        "#Repetir el proceso generara multiples historias\n",
        "# Sintaxis basica de un bucle for es for variable in secuencia (lista, un rango o numeros)\n",
        "import random\n",
        "\n",
        "for i in range(5):\n",
        "   personaje = random.choice(personajes)\n",
        "   lugar = random.choice(lugares)\n",
        "   accion = random.choice(acciones)\n",
        "\n",
        "# Crear historia\n",
        "   historia = f\"{personaje} {accion} chayanne {lugar}.\"\n",
        "   print(f\"historia {i+1}: {historia}\")\n"
      ],
      "metadata": {
        "colab": {
          "base_uri": "https://localhost:8080/"
        },
        "id": "814WB4Tg2XiX",
        "outputId": "923f9143-da48-4084-9674-8d4851537aa7"
      },
      "execution_count": null,
      "outputs": [
        {
          "output_type": "stream",
          "name": "stdout",
          "text": [
            "historia 1: un mago baila con chayanne en la casa britney spears.\n",
            "historia 2: una princesa lucha contra chayanne en un castillo.\n",
            "historia 3: una princesa baila con chayanne en la casa britney spears.\n",
            "historia 4: un caballero lucha contra chayanne en el bosque.\n",
            "historia 5: un caballero huye de chayanne en la casa britney spears.\n"
          ]
        }
      ]
    },
    {
      "cell_type": "code",
      "source": [
        "import random\n",
        "\n",
        "# Funcion para generar una historia\n",
        "def generar_historia():\n",
        "    personaje = random.choice(personajes)\n",
        "    lugar = random.choice(lugares)\n",
        "    accion = random.choice(acciones)\n",
        "    historia = f\"{personaje} {accion} chayanne {lugar}.\"\n",
        "    return historia\n",
        "\n",
        "  # Generar E mostrar 5 historias usando la funcion\n",
        "for i in range(5):\n",
        "    historia = generar_historia()\n",
        "    print(f\"Historia {i+1}: {historia}\")"
      ],
      "metadata": {
        "id": "C7rVANIW9R4I",
        "colab": {
          "base_uri": "https://localhost:8080/"
        },
        "outputId": "527f81dd-2e6e-4fb3-f66e-9345855e8eab"
      },
      "execution_count": null,
      "outputs": [
        {
          "output_type": "stream",
          "name": "stdout",
          "text": [
            "Historia 1: un mago baila con chayanne en la casa britney spears.\n",
            "Historia 2: una princesa baila con chayanne en un castillo.\n",
            "Historia 3: un mago baila con chayanne en la casa britney spears.\n",
            "Historia 4: un caballero huye de chayanne en un castillo.\n",
            "Historia 5: un mago lucha contra chayanne en la casa britney spears.\n"
          ]
        }
      ]
    },
    {
      "cell_type": "markdown",
      "source": [
        "# generador de historias\n"
      ],
      "metadata": {
        "id": "NwG90q5Cue8N"
      }
    },
    {
      "cell_type": "code",
      "source": [
        "#                                                  Generador de historias\n",
        "#Librerias\n",
        "import random\n",
        "\n",
        "#Listas\n",
        "personajes = [\"Luffy\", \"Robin\", \"Sanji\", \"Franky\", \"Brook\"]\n",
        "lugares = [\"en una isla tropical\", \"en una montaña nevada\", \"en un mercado local\"]\n",
        "acciones = [\"cocina con\", \"explora con\", \"juega con\", \"ayuda a\"]\n",
        "\n",
        "#Ingresar personaje principal\n",
        "principal=input(\"Por favor ingresa al personaje principal: \")\n",
        "\n",
        "#Número de historias a generar\n",
        "num=int(input(\"¿Cuántas historias quieres generar?\\n\"))\n",
        "\n",
        "#En caso de que num sea menor o igual que 0 automanticamente se le asigna el valor de num como 10.\n",
        "if num<=0:\n",
        "  num=10\n",
        "\n",
        "#Añadir nuevos personajes\n",
        "validar=input(\"Quieres añadir personajes, lugares y acciones?(si/no)\\n\")\n",
        "\n",
        "#Condicional y estructura de control para saber si el usuario desea añadir nuevos personajes, lugares y acciones.\n",
        "if validar==\"si\":\n",
        "    repeticiones=int(input(\"Cuántos quieres añadir por cada uno?\\n\"))\n",
        "    if repeticiones>0:\n",
        "      for a in range(repeticiones):\n",
        "        nuevo_personaje=input(\"Ingresa un nuevo personaje: \")\n",
        "        personajes.append(nuevo_personaje)\n",
        "        nuevo_lugar=input(\"Ingresa un nuevo lugar: \")\n",
        "        lugares.append(nuevo_lugar)\n",
        "        nueva_accion=input(\"Ingresa una nueva acción: \")\n",
        "        acciones.append(nueva_accion)\n",
        "        print(\"\")\n",
        "    else:\n",
        "      print(\"No es un número válido, seguiremos con las historias.\\n\")\n",
        "else:\n",
        "    print(\"\\nComo no quieres ingresar nada nuevo continuaremos.\\n\")\n",
        "\n",
        "#Función para generar una historia\n",
        "def generar_historia():\n",
        "    personaje=random.choice(personajes)\n",
        "    lugar=random.choice(lugares)\n",
        "    accion=random.choice(acciones)\n",
        "    historia=(f\"{personaje} {accion} {principal} {lugar}\")\n",
        "    return historia\n",
        "\n",
        "#Generar las historias.\n",
        "for i in range (num):\n",
        "    historia=generar_historia()\n",
        "    print(f\"Historia {i+1}: {historia}\")"
      ],
      "metadata": {
        "id": "qkKC8rSYAAHl",
        "colab": {
          "base_uri": "https://localhost:8080/"
        },
        "outputId": "38634f96-f5f4-4cb1-816a-f0ce7e8d36b0"
      },
      "execution_count": 1,
      "outputs": [
        {
          "output_type": "stream",
          "name": "stdout",
          "text": [
            "Por favor ingresa al personaje principal: beyonce\n",
            "¿Cuántas historias quieres generar?\n",
            "2\n",
            "Quieres añadir personajes, lugares y acciones?(si/no)\n",
            "no\n",
            "\n",
            "Como no quieres ingresar nada nuevo continuaremos.\n",
            "\n",
            "Historia 1: Sanji ayuda a beyonce en una isla tropical\n",
            "Historia 2: Sanji juega a beyonce en una isla tropical\n"
          ]
        }
      ]
    }
  ]
}